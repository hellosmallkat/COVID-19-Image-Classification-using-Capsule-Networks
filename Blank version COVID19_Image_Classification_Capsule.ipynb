{
  "cells": [
    {
      "cell_type": "markdown",
      "id": "c8641a56",
      "metadata": {
        "id": "c8641a56"
      },
      "source": [
        "<h1 align=\"center\">\n",
        "    NSDC Data Science Projects\n",
        "</h1>\n",
        "\n",
        "<h2 align=\"center\">\n",
        "    Project: COVID-19 Image Classification using Capsule Networks\n",
        "</h2>\n",
        "\n",
        "<h3 align=\"center\">\n",
        "    Name: hellosmallkat",
        "</h3>"
      ]
    },
    {
      "cell_type": "markdown",
      "id": "b80090d3",
      "metadata": {
        "id": "b80090d3"
      },
      "source": [
        "### **Project Description**"
      ]
    },
    {
      "cell_type": "markdown",
      "id": "81c34e89",
      "metadata": {
        "id": "81c34e89"
      },
      "source": [
        "The NSDC DSPs provide virtual collaboration and networking opportunities for data science learners of all ages and skill levels, aiming to develop new data pre-processing, machine learning, and programming skills.\n",
        "\n",
        "In this project, we will explore the application of Capsule Networks for the classification of COVID-19 images. Capsule Networks are a type of neural network that are particularly effective in recognizing spatial hierarchies in images, which is crucial for medical imaging tasks.\n",
        "\n",
        "We will work with a dataset of chest X-ray images to develop a classification model that can distinguish between COVID-19 positive and negative cases. This project will involve data preprocessing, model building, training, and evaluation, as well as visualization and interpretation of the results.\n",
        "\n",
        "Our goal is to equip you with the skills needed to implement advanced neural network architectures and apply them to real-world medical imaging challenges.\n",
        "\n",
        "\n",
        "**Instructions: Google Colab Notebooks:**\n",
        "\n",
        "Google Colab is a free cloud service. It is a hosted Jupyter notebook service that requires no setup to use, while providing free access to computing resources. We will be using Google Colab for this project.\n",
        "\n",
        "In order to work within the Google Colab Notebook, **please start by clicking on \"File\" and then \"Save a copy in Drive.\"** This will save a copy of the notebook in your personal Google Drive.\n",
        "\n",
        "Please rename the file to \"COVID19_Image_Classification_Capsule - Your Full Name.\" Once this project is completed, you will be prompted to share your file with the National Student Data Corps (NSDC) Project Leaders.\n",
        "\n",
        "The notebook is provided with blanks \"_________\" and a comment instructing you on what needs to be done. You need to fill the space with the correct code to make sure you get the desired output.\n",
        "\n",
        "You can now start working on the project. :)\n"
      ]
    },
    {
      "cell_type": "markdown",
      "id": "35fa5a3b",
      "metadata": {
        "id": "35fa5a3b"
      },
      "source": [
        "### **Goals**"
      ]
    },
    {
      "cell_type": "markdown",
      "id": "854ba3b0",
      "metadata": {
        "id": "854ba3b0"
      },
      "source": [
        "- **Data Preprocessing**: Clean and prepare the dataset of chest X-ray images.\n",
        "- **Model Building**: Implement a Capsule Network architecture.\n",
        "- **Model Training and Evaluation**: Train the model and evaluate its performance.\n",
        "- **Visualization and Interpretation**: Visualize the results and interpret the model's predictions."
      ]
    },
    {
      "cell_type": "markdown",
      "id": "57551eb5",
      "metadata": {
        "id": "57551eb5"
      },
      "source": [
        "### **Tools and Libraries**"
      ]
    },
    {
      "cell_type": "markdown",
      "id": "b708b40f",
      "metadata": {
        "id": "b708b40f"
      },
      "source": [
        "- **Python**: Programming language\n",
        "- **NumPy**: Numerical computing\n",
        "- **Pandas**: Data manipulation\n",
        "- **TensorFlow/Keras**: Deep learning framework\n",
        "- **Matplotlib/Seaborn**: Data visualization\n",
        "- **OpenCV**: Image processing"
      ]
    },
    {
      "cell_type": "markdown",
      "id": "e1b049ae",
      "metadata": {
        "id": "e1b049ae"
      },
      "source": [
        "### **Data Preprocessing**"
      ]
    },
    {
      "cell_type": "markdown",
      "id": "2bd9c861",
      "metadata": {
        "id": "2bd9c861"
      },
      "source": [
        "In this section, we will load the dataset of chest X-ray images and perform the necessary preprocessing steps. This includes resizing images, normalizing pixel values, and augmenting the data to improve model performance.\n",
        "\n",
        "**Steps:**\n",
        "1. Load the dataset.\n",
        "2. Resize the images to a uniform size.\n",
        "3. Normalize the pixel values.\n",
        "4. Apply data augmentation techniques."
      ]
    },
    {
      "cell_type": "markdown",
      "source": [
        "# Milestone 1: Data Preprocessing\n",
        "\n",
        "### Task 1.1: Load the Dataset\n",
        "- Download and load the chest X-ray image dataset.\n",
        "- Import necessary libraries.\n",
        "\n",
        "**Resources**:\n",
        "- [How to Load and Preprocess Images in Python](https://www.tensorflow.org/tutorials/load_data/images)\n",
        "- [Pandas Documentation](https://pandas.pydata.org/docs/)"
      ],
      "metadata": {
        "id": "VMxSZMFWqrGL"
      },
      "id": "VMxSZMFWqrGL"
    },
    {
      "cell_type": "code",
      "execution_count": null,
      "id": "e1ea7e0c",
      "metadata": {
        "id": "e1ea7e0c"
      },
      "outputs": [],
      "source": [
        "# Step 1: Setting up the environment\n",
        "!pip install kaggle"
      ]
    },
    {
      "cell_type": "markdown",
      "source": [
        "### Task 1.2: Steps to Generate `kaggle.json`\n",
        "\n",
        "1. **Log in to Kaggle**: Go to [Kaggle](https://www.kaggle.com/) and log in.\n",
        "2. **Account Settings**: Go to **Account** from your profile.\n",
        "3. **Create API Token**: Click **\"Create New API Token\"** to download `kaggle.json`.\n",
        "4. **Move File**: Place `kaggle.json` in `~/.kaggle/` (local) or upload it in Google Colab.\n",
        "5. **Set Permissions** (Linux/MacOS): Run `chmod 600 ~/.kaggle/kaggle.json`.\n",
        "6. **Authenticate**: Use it to authenticate with Kaggle API."
      ],
      "metadata": {
        "id": "yNi29dtK5t0K"
      },
      "id": "yNi29dtK5t0K"
    },
    {
      "cell_type": "code",
      "execution_count": null,
      "id": "965276f2",
      "metadata": {
        "id": "965276f2"
      },
      "outputs": [],
      "source": [
        "!mkdir ~/.kaggle\n",
        "!mv kaggle.json ~/.kaggle/\n",
        "!chmod 600 ~/.kaggle/kaggle.json"
      ]
    },
    {
      "cell_type": "code",
      "execution_count": null,
      "id": "985c9c41",
      "metadata": {
        "id": "985c9c41",
        "collapsed": true
      },
      "outputs": [],
      "source": [
        "# Step 2: Authenticate with Kaggle and download the dataset\n",
        "import os\n",
        "from kaggle.api.kaggle_api_extended import KaggleApi\n",
        "\n",
        "# Authenticate with Kaggle\n",
        "api = KaggleApi()\n",
        "api.authenticate()\n",
        "\n",
        "# Download the dataset\n",
        "dataset = 'tawsifurrahman/covid19-radiography-database'\n",
        "path = 'covid19-radiography-database'\n",
        "api.dataset_download_files(dataset, path=path, unzip=True)\n",
        "\n",
        "# Verify the files\n",
        "for dirpath, dirnames, filenames in os.walk(path):\n",
        "    for filename in filenames:\n",
        "        print(os.path.join(dirpath, filename))"
      ]
    },
    {
      "cell_type": "code",
      "execution_count": null,
      "id": "b5f99f4b",
      "metadata": {
        "id": "b5f99f4b"
      },
      "outputs": [],
      "source": [
        "# Step 3: Import necessary libraries\n",
        "import numpy as np\n",
        "import pandas as pd\n",
        "import matplotlib.pyplot as plt\n",
        "import tensorflow as tf\n",
        "from tensorflow.keras.preprocessing.image import ImageDataGenerator\n",
        "from tensorflow.keras.models import Sequential\n",
        "from tensorflow.keras.layers import Conv2D, MaxPooling2D, Flatten, Dense, Dropout\n",
        "from sklearn.metrics import classification_report, confusion_matrix\n",
        "from sklearn.model_selection import train_test_split\n",
        "import shutil"
      ]
    },
    {
      "cell_type": "markdown",
      "source": [
        "### Task 1.3: Organize the dataset into train and test directories\n",
        "- Explore the Dataset: Explore the dataset to understand its structure and contents.\n",
        "- Organise them into train and test directory.\n",
        "- Split the data in train (80%) and test (20%)"
      ],
      "metadata": {
        "id": "oqfWgty3tJh8"
      },
      "id": "oqfWgty3tJh8"
    },
    {
      "cell_type": "code",
      "execution_count": null,
      "id": "3f2c7d66",
      "metadata": {
        "id": "3f2c7d66"
      },
      "outputs": [],
      "source": [
        "# Step 4: Organize the dataset into train and test directories\n",
        "def create_dataset_folders(base_path):\n",
        "    # Define paths\n",
        "    dataset_path = os.path.join(base_path, 'COVID-19_Radiography_Dataset')\n",
        "    classes = ['COVID', 'Normal', 'Viral Pneumonia', 'Lung_Opacity']\n",
        "\n",
        "    for cls in classes:\n",
        "        class_path = os.path.join(dataset_path, cls, 'images')\n",
        "        images = [os.path.join(class_path, img) for img in os.listdir(class_path) if img.endswith('.png')]\n",
        "\n",
        "        train_imgs, test_imgs = train_test_split(images, test_size=__________, random_state=42)\n",
        "\n",
        "        for img_set, folder in zip([train_imgs, test_imgs], ['train', 'test']):\n",
        "            folder_path = os.path.join(base_path, folder, cls)\n",
        "            os.makedirs(folder_path, exist_ok=True)\n",
        "            for img in img_set:\n",
        "                shutil.copy(img, folder_path)\n",
        "\n",
        "create_dataset_folders(path)"
      ]
    },
    {
      "cell_type": "markdown",
      "source": [
        "### Task 1.4: Data Augmentation\n",
        "- Use ImageDataGenerator to rescale the image data and apply transformations like shear (20%), zoom (20%), and horizontal flip (True) for the training set.\n",
        "- For the test set, only rescale the image data without augmentation.\n",
        "\n",
        "- Image Resizing and Normalization\n",
        "  - Resize the images to a uniform size and normalize the pixel values to prepare them for model training.\n",
        "  - Resize images to target dimensions (e.g., 224x224 pixels)\n",
        "\n",
        "**Resources**:\n",
        "- [Image Preprocessing for Deep Learning](https://machinelearningmastery.com/how-to-manually-scale-image-pixel-data-for-deep-learning/)\n",
        "- [Data Augmentation using ImageDataGenerator](https://www.tensorflow.org/api_docs/python/tf/keras/preprocessing/image/ImageDataGenerator)"
      ],
      "metadata": {
        "id": "nL3bk60CLZLj"
      },
      "id": "nL3bk60CLZLj"
    },
    {
      "cell_type": "code",
      "execution_count": null,
      "id": "8939b327",
      "metadata": {
        "id": "8939b327"
      },
      "outputs": [],
      "source": [
        "# Step 5: Perform data augmentation\n",
        "\n",
        "train_dir = os.path.join(path, 'train')  # Path to the training directory\n",
        "test_dir = os.path.join(path, 'test')  # Path to the test directory\n",
        "\n",
        "train_datagen = ImageDataGenerator(\n",
        "    rescale=__________,  # Rescale pixel values (e.g., 1./255 for normalization)\n",
        "    shear_range=__________,  # Apply shear transformation (e.g., 20%)\n",
        "    zoom_range=__________,  # Apply zoom transformation (e.g., 20%)\n",
        "    horizontal_flip=__________  # Randomly flip images horizontally (True/False)\n",
        ")\n",
        "\n",
        "test_datagen = ImageDataGenerator(rescale=1./255)  # Only rescale test data (normalize pixel values)\n",
        "\n",
        "\n",
        "train_generator = train_datagen.flow_from_directory(\n",
        "    __________,  # Path to training directory\n",
        "    target_size=(__________, __________),\n",
        "    batch_size=__________,  # Specify the batch size (e.g., 32)\n",
        "    class_mode=__________  # Mode for classifying multi-class data (e.g., 'categorical')\n",
        ")\n",
        "\n",
        "test_generator = test_datagen.flow_from_directory(\n",
        "    test_dir,  # Path to test directory\n",
        "    target_size=(224, 224),\n",
        "    batch_size=32,  # Batch size of 32 for testing\n",
        "    class_mode='categorical'  # Mode for multi-class classification\n",
        ")\n"
      ]
    },
    {
      "cell_type": "markdown",
      "source": [
        "# Milestone 2: Model Building\n",
        "### Task 2.1: Define Capsule Network Architecture\n",
        "- Implement the Capsule Network model architecture using Keras, defining layers such as Convolution, Primary Capsule, and Digit Capsule.\n",
        "\n",
        "\n",
        "**Model Architecture:**\n",
        "- **Conv2D Layer 1**: 32 filters, 3x3 kernel size, ReLU activation, input shape of (224, 224, 3) (image size: 224x224x3 channels)\n",
        "- **MaxPooling2D Layer 1**: Pool size 2x2\n",
        "- **Conv2D Layer 2**: 64 filters, 3x3 kernel size, ReLU activation\n",
        "- **MaxPooling2D Layer 2**: Pool size 2x2\n",
        "- **Conv2D Layer 3**: 128 filters, 3x3 kernel size, ReLU activation\n",
        "- **MaxPooling2D Layer 3**: Pool size 2x2\n",
        "- **Flatten Layer**: Flatten the input to a 1D vector\n",
        "- **Dense Layer 1**: 512 units, ReLU activation\n",
        "- **Dropout Layer**: Drop 50% of units to prevent overfitting\n",
        "- **Dense Output Layer**: 4 units, Softmax activation (for multi-class classification)\n",
        "\n",
        "**Resources**:\n",
        "- [Keras Sequential Model Documentation](https://keras.io/guides/sequential_model/)\n",
        "- [Keras Conv2D Layer Documentation](https://keras.io/api/layers/convolution_layers/convolution2d/)\n",
        "- [Keras Pooling Layers Documentation](https://keras.io/api/layers/pooling_layers/max_pooling2d/)\n",
        "- [Building CNNs with Keras - A Practical Guide](https://www.tensorflow.org/tutorials/images/cnn)\n",
        "- [Dense Layer Documentation](https://keras.io/api/layers/core_layers/dense/)\n",
        "- [Dropout Layer Documentation](https://keras.io/api/layers/regularization_layers/dropout/)"
      ],
      "metadata": {
        "id": "roeHuMo-rn-h"
      },
      "id": "roeHuMo-rn-h"
    },
    {
      "cell_type": "code",
      "execution_count": null,
      "id": "86145605",
      "metadata": {
        "id": "86145605"
      },
      "outputs": [],
      "source": [
        "# Build the model\n",
        "from tensorflow.keras.models import Sequential\n",
        "from tensorflow.keras.layers import Conv2D, MaxPooling2D, Flatten, Dense, Dropout\n",
        "\n",
        "# Step 6: Build the model\n",
        "model = Sequential([\n",
        "    Conv2D(__________, (__________, __________), activation='__________', input_shape=(__________, __________, __________)),  # Convolution layer 1\n",
        "    MaxPooling2D((__________, __________)),  # MaxPooling layer 1\n",
        "    Conv2D(__________, (__________, __________), activation='__________'),  # Convolution layer 2\n",
        "    MaxPooling2D((__________, __________)),  # MaxPooling layer 2\n",
        "    ____________,\n",
        "    ...\n",
        "    ..\n",
        "    Dense(__________, activation='__________')  # Output layer\n",
        "])"
      ]
    },
    {
      "cell_type": "markdown",
      "source": [
        "### Task 2.2: Compile the Model\n",
        "- Set up the loss function and optimizer, compile the model, and prepare it for training.\n",
        "\n",
        "Compile the model with the following:\n",
        "- Optimizer: Adam (or specify another optimizer if needed)\n",
        "- Loss function: Categorical crossentropy (for multi-class classification)\n",
        "- Metrics: Accuracy (to track model performance)\n",
        "\n",
        "**Resources**:\n",
        "- [Keras Model Compilation](https://keras.io/guides/training_with_built_in_methods/)\n",
        "- [Optimizer Guide in PyTorch](https://pytorch.org/docs/stable/optim.html)"
      ],
      "metadata": {
        "id": "yA-ZbzCoLhFb"
      },
      "id": "yA-ZbzCoLhFb"
    },
    {
      "cell_type": "code",
      "execution_count": null,
      "id": "ce7d1ca7",
      "metadata": {
        "id": "ce7d1ca7"
      },
      "outputs": [],
      "source": [
        "# Step 7: Compile the model\n",
        "\n",
        "model.compile(optimizer='__________', loss='__________', metrics=[__________])"
      ]
    },
    {
      "cell_type": "markdown",
      "source": [
        "# Milestone 3: Model Training and Evaluation\n",
        "\n",
        "### Task 3.1: Train the Model\n",
        "- Train the Capsule Network on the training dataset and monitor performance on the validation set.\n",
        "\n",
        "**Resources**:\n",
        "- [Training Neural Networks with Keras](https://keras.io/getting_started/intro_to_keras_for_engineers/)\n",
        "- [Training a Model with PyTorch](https://pytorch.org/tutorials/beginner/basics/optimization_tutorial.html)"
      ],
      "metadata": {
        "id": "w3G-0e_Wr2lT"
      },
      "id": "w3G-0e_Wr2lT"
    },
    {
      "cell_type": "code",
      "execution_count": null,
      "id": "c115bcc0",
      "metadata": {
        "id": "c115bcc0"
      },
      "outputs": [],
      "source": [
        "# Step 8: Train the model\n",
        "history = model.fit(\n",
        "    train_generator,\n",
        "    steps_per_epoch=train_generator.samples // train_generator.batch_size,\n",
        "    epochs=__________,  # Number of training epochs (e.g., 20) feel fee to play with different epochs and check what works best\n",
        "    validation_data=test_generator,\n",
        "    validation_steps=test_generator.samples // test_generator.batch_size\n",
        ")"
      ]
    },
    {
      "cell_type": "markdown",
      "source": [
        "### Task 3.2: Evaluate the Model\n",
        "- Calculate the test accuracy"
      ],
      "metadata": {
        "id": "Lpsd7kLAzvao"
      },
      "id": "Lpsd7kLAzvao"
    },
    {
      "cell_type": "code",
      "source": [
        "# Step 9: Evaluate the model\n",
        "\n",
        "test_loss, test_acc = model.evaluate(\n",
        "    __________,  # The test data generator (e.g., test_generator)\n",
        "    steps=__________ // __________  # Number of steps (total test samples // batch size)\n",
        ")\n",
        "print(f\"Test Accuracy: {test_acc}\")"
      ],
      "metadata": {
        "id": "58EAkovs7SzX"
      },
      "id": "58EAkovs7SzX",
      "execution_count": null,
      "outputs": []
    },
    {
      "cell_type": "markdown",
      "id": "b611cd40",
      "metadata": {
        "id": "b611cd40"
      },
      "source": [
        "# Milestone 4: Visualization and Interpretation\n",
        "\n",
        "Visualize the model's performance through various plots and interpret the results to understand how well the model is distinguishing between COVID-19 positive and negative cases.\n",
        "\n",
        "### Task 4.1: Visualize Model Performance\n",
        "- Plot training and validation accuracy/loss curves to assess overfitting or underfitting.\n",
        "- Generate a confusion matrix to visualize the classification performance.\n",
        "\n",
        "![image.png](data:image/png;base64,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)\n",
        "\n",
        "Image [Reference](https://www.google.com/url?sa=i&url=https%3A%2F%2Ftowardsdatascience.com%2Fvisual-guide-to-the-confusion-matrix-bb63730c8eba&psig=AOvVaw2KF5lYrmCcGG5F--Ysjabb&ust=1725736703725000&source=images&cd=vfe&opi=89978449&ved=0CBcQjhxqFwoTCKjWkauEr4gDFQAAAAAdAAAAABAS)\n",
        "\n",
        "**Resources**:\n",
        "- [Confusion Matrix in Machine Learning](https://www.w3schools.com/python/python_ml_confusion_matrix.asp)\n",
        "- [Precision, Recall, and F1-Score Explained](https://towardsdatascience.com/accuracy-precision-recall-or-f1-331fb37c5cb9)\n",
        "- [Scikit-learn Model Evaluation Metrics](https://scikit-learn.org/stable/modules/model_evaluation.html)"
      ]
    },
    {
      "cell_type": "code",
      "execution_count": null,
      "id": "df4e204f",
      "metadata": {
        "id": "df4e204f"
      },
      "outputs": [],
      "source": [
        "# Step 10: Generate classification report\n",
        "Y_pred = model.predict(test_generator)\n",
        "y_pred = np.argmax(Y_pred, axis=1)\n",
        "print('Confusion Matrix')\n",
        "print(confusion_matrix(test_generator.classes, y_pred))\n",
        "print('Classification Report')\n",
        "target_names = list(train_generator.class_indices.keys())\n",
        "print(classification_report(test_generator.classes, y_pred, target_names=target_names))"
      ]
    },
    {
      "cell_type": "markdown",
      "id": "460af60a",
      "metadata": {
        "id": "460af60a"
      },
      "source": [
        "### Task 4.2: Interpret Model Predictions\n",
        "- Look at a few cases where the model succeeded or failed, interpreting the model's output to understand its decision-making process.\n",
        "\n",
        "Extract the following from the training history:\n",
        "- Training accuracy\n",
        "- Validation accuracy\n",
        "- Training loss\n",
        "- Validation loss\n",
        "\n",
        "**Resources:**\n",
        "- [Visualizing Neural Network Training with Matplotlib](https://machinelearningmastery.com/display-deep-learning-model-training-history-in-keras/)"
      ]
    },
    {
      "cell_type": "code",
      "execution_count": null,
      "id": "deb0beca",
      "metadata": {
        "id": "deb0beca"
      },
      "outputs": [],
      "source": [
        "# Step 11: Plot the training and validation accuracy and loss\n",
        "\n",
        "acc = history.history['__________']  # Training accuracy\n",
        "val_acc = history.history['__________']  # Validation accuracy\n",
        "loss = history.history['__________']  # Training loss\n",
        "val_loss = history.history['__________']  # Validation loss\n",
        "\n",
        "epochs = range(len(acc))\n",
        "\n",
        "plt.plot(epochs, acc, 'r', label='Training accuracy')\n",
        "plt.plot(epochs, val_acc, 'b', label='Validation accuracy')\n",
        "plt.title('Training and validation accuracy')\n",
        "plt.legend()\n",
        "plt.figure()\n",
        "\n",
        "plt.plot(epochs, loss, 'r', label='Training loss')\n",
        "plt.plot(epochs, val_loss, 'b', label='Validation loss')\n",
        "plt.title('Training and validation loss')\n",
        "plt.legend()\n",
        "plt.show()"
      ]
    },
    {
      "cell_type": "markdown",
      "id": "34f74b24",
      "metadata": {
        "id": "34f74b24"
      },
      "source": [
        "### **Conclusion**"
      ]
    },
    {
      "cell_type": "markdown",
      "id": "48195ec3",
      "metadata": {
        "id": "48195ec3"
      },
      "source": [
        "In this project, we implemented a Capsule Network to classify chest X-ray images into COVID-19 positive and negative categories. We explored various aspects of the model's performance through detailed analysis and visualization. This project demonstrates the potential of advanced neural network architectures in medical imaging and highlights the importance of accurate and reliable diagnostic tools in the fight against COVID-19."
      ]
    },
    {
      "cell_type": "markdown",
      "source": [
        "### **Final Submission**\n",
        "Thank you for completing the project!\n",
        "Please submit all materials to the NSDC HQ team at er3101@columbia.edu in order to receive a virtual certificate of completion. Do reach out to us if you have any questions or concerns. We are here to help you learn and grow."
      ],
      "metadata": {
        "id": "wkCEFBCZHZzP"
      },
      "id": "wkCEFBCZHZzP"
    },
    {
      "cell_type": "markdown",
      "id": "2dcce201",
      "metadata": {
        "id": "2dcce201"
      },
      "source": [
        "### **Acknowledgments and Next Steps**"
      ]
    },
    {
      "cell_type": "markdown",
      "id": "b8c521ab",
      "metadata": {
        "id": "b8c521ab"
      },
      "source": [
        "Thank you for completing this project! If you have any questions or need further assistance, feel free to reach out.\n",
        "\n",
        "For the next steps, consider experimenting with different neural network architectures or applying this approach to other medical imaging datasets. The skills and knowledge gained from this project can be extended to various real-world challenges in healthcare and beyond.\n",
        "\n",
        "Happy Coding!"
      ]
    }
  ],
  "metadata": {
    "colab": {
      "provenance": []
    },
    "kernelspec": {
      "display_name": "base",
      "language": "python",
      "name": "python3"
    },
    "language_info": {
      "codemirror_mode": {
        "name": "ipython",
        "version": 3
      },
      "file_extension": ".py",
      "mimetype": "text/x-python",
      "name": "python",
      "nbconvert_exporter": "python",
      "pygments_lexer": "ipython3",
      "version": "3.11.8"
    }
  },
  "nbformat": 4,
  "nbformat_minor": 5
}
